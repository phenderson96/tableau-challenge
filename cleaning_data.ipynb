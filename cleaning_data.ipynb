{
 "cells": [
  {
   "cell_type": "code",
   "execution_count": 1,
   "metadata": {},
   "outputs": [],
   "source": [
    "import sqlite3\n",
    "import pandas as pd\n",
    "import numpy as np"
   ]
  },
  {
   "cell_type": "code",
   "execution_count": 2,
   "metadata": {},
   "outputs": [],
   "source": [
    "# csv files\n",
    "dir_2019 = \"source/JC-201906-citibike-tripdata.csv\"\n",
    "dir_2020 = \"source/JC-202006-citibike-tripdata.csv\""
   ]
  },
  {
   "cell_type": "code",
   "execution_count": 3,
   "metadata": {},
   "outputs": [],
   "source": [
    "# read csv\n",
    "df_2019 = pd.read_csv(dir_2019)\n",
    "df_2020 = pd.read_csv(dir_2020)"
   ]
  },
  {
   "cell_type": "code",
   "execution_count": 4,
   "metadata": {},
   "outputs": [
    {
     "data": {
      "text/html": [
       "<div>\n",
       "<style scoped>\n",
       "    .dataframe tbody tr th:only-of-type {\n",
       "        vertical-align: middle;\n",
       "    }\n",
       "\n",
       "    .dataframe tbody tr th {\n",
       "        vertical-align: top;\n",
       "    }\n",
       "\n",
       "    .dataframe thead th {\n",
       "        text-align: right;\n",
       "    }\n",
       "</style>\n",
       "<table border=\"1\" class=\"dataframe\">\n",
       "  <thead>\n",
       "    <tr style=\"text-align: right;\">\n",
       "      <th></th>\n",
       "      <th>tripduration</th>\n",
       "      <th>starttime</th>\n",
       "      <th>stoptime</th>\n",
       "      <th>start station id</th>\n",
       "      <th>start station name</th>\n",
       "      <th>start station latitude</th>\n",
       "      <th>start station longitude</th>\n",
       "      <th>end station id</th>\n",
       "      <th>end station name</th>\n",
       "      <th>end station latitude</th>\n",
       "      <th>end station longitude</th>\n",
       "      <th>bikeid</th>\n",
       "      <th>usertype</th>\n",
       "      <th>birth year</th>\n",
       "      <th>gender</th>\n",
       "    </tr>\n",
       "  </thead>\n",
       "  <tbody>\n",
       "    <tr>\n",
       "      <th>0</th>\n",
       "      <td>316</td>\n",
       "      <td>2019-06-01 00:05:55.7210</td>\n",
       "      <td>2019-06-01 00:11:11.9940</td>\n",
       "      <td>3187</td>\n",
       "      <td>Warren St</td>\n",
       "      <td>40.721124</td>\n",
       "      <td>-74.038051</td>\n",
       "      <td>3199</td>\n",
       "      <td>Newport Pkwy</td>\n",
       "      <td>40.728745</td>\n",
       "      <td>-74.032108</td>\n",
       "      <td>29677</td>\n",
       "      <td>Subscriber</td>\n",
       "      <td>1993</td>\n",
       "      <td>1</td>\n",
       "    </tr>\n",
       "    <tr>\n",
       "      <th>1</th>\n",
       "      <td>280</td>\n",
       "      <td>2019-06-01 00:08:09.0920</td>\n",
       "      <td>2019-06-01 00:12:50.0730</td>\n",
       "      <td>3185</td>\n",
       "      <td>City Hall</td>\n",
       "      <td>40.717733</td>\n",
       "      <td>-74.043845</td>\n",
       "      <td>3267</td>\n",
       "      <td>Morris Canal</td>\n",
       "      <td>40.712419</td>\n",
       "      <td>-74.038526</td>\n",
       "      <td>29571</td>\n",
       "      <td>Subscriber</td>\n",
       "      <td>1984</td>\n",
       "      <td>1</td>\n",
       "    </tr>\n",
       "    <tr>\n",
       "      <th>2</th>\n",
       "      <td>2162</td>\n",
       "      <td>2019-06-01 00:13:11.8800</td>\n",
       "      <td>2019-06-01 00:49:14.3640</td>\n",
       "      <td>3199</td>\n",
       "      <td>Newport Pkwy</td>\n",
       "      <td>40.728745</td>\n",
       "      <td>-74.032108</td>\n",
       "      <td>3199</td>\n",
       "      <td>Newport Pkwy</td>\n",
       "      <td>40.728745</td>\n",
       "      <td>-74.032108</td>\n",
       "      <td>26208</td>\n",
       "      <td>Customer</td>\n",
       "      <td>1969</td>\n",
       "      <td>0</td>\n",
       "    </tr>\n",
       "    <tr>\n",
       "      <th>3</th>\n",
       "      <td>2184</td>\n",
       "      <td>2019-06-01 00:13:30.1110</td>\n",
       "      <td>2019-06-01 00:49:54.2250</td>\n",
       "      <td>3199</td>\n",
       "      <td>Newport Pkwy</td>\n",
       "      <td>40.728745</td>\n",
       "      <td>-74.032108</td>\n",
       "      <td>3199</td>\n",
       "      <td>Newport Pkwy</td>\n",
       "      <td>40.728745</td>\n",
       "      <td>-74.032108</td>\n",
       "      <td>29487</td>\n",
       "      <td>Customer</td>\n",
       "      <td>1969</td>\n",
       "      <td>0</td>\n",
       "    </tr>\n",
       "    <tr>\n",
       "      <th>4</th>\n",
       "      <td>139</td>\n",
       "      <td>2019-06-01 00:13:31.8520</td>\n",
       "      <td>2019-06-01 00:15:51.7880</td>\n",
       "      <td>3207</td>\n",
       "      <td>Oakland Ave</td>\n",
       "      <td>40.737604</td>\n",
       "      <td>-74.052478</td>\n",
       "      <td>3207</td>\n",
       "      <td>Oakland Ave</td>\n",
       "      <td>40.737604</td>\n",
       "      <td>-74.052478</td>\n",
       "      <td>29592</td>\n",
       "      <td>Subscriber</td>\n",
       "      <td>1994</td>\n",
       "      <td>1</td>\n",
       "    </tr>\n",
       "  </tbody>\n",
       "</table>\n",
       "</div>"
      ],
      "text/plain": [
       "   tripduration                 starttime                  stoptime  \\\n",
       "0           316  2019-06-01 00:05:55.7210  2019-06-01 00:11:11.9940   \n",
       "1           280  2019-06-01 00:08:09.0920  2019-06-01 00:12:50.0730   \n",
       "2          2162  2019-06-01 00:13:11.8800  2019-06-01 00:49:14.3640   \n",
       "3          2184  2019-06-01 00:13:30.1110  2019-06-01 00:49:54.2250   \n",
       "4           139  2019-06-01 00:13:31.8520  2019-06-01 00:15:51.7880   \n",
       "\n",
       "   start station id start station name  start station latitude  \\\n",
       "0              3187          Warren St               40.721124   \n",
       "1              3185          City Hall               40.717733   \n",
       "2              3199       Newport Pkwy               40.728745   \n",
       "3              3199       Newport Pkwy               40.728745   \n",
       "4              3207        Oakland Ave               40.737604   \n",
       "\n",
       "   start station longitude  end station id end station name  \\\n",
       "0               -74.038051            3199     Newport Pkwy   \n",
       "1               -74.043845            3267     Morris Canal   \n",
       "2               -74.032108            3199     Newport Pkwy   \n",
       "3               -74.032108            3199     Newport Pkwy   \n",
       "4               -74.052478            3207      Oakland Ave   \n",
       "\n",
       "   end station latitude  end station longitude  bikeid    usertype  \\\n",
       "0             40.728745             -74.032108   29677  Subscriber   \n",
       "1             40.712419             -74.038526   29571  Subscriber   \n",
       "2             40.728745             -74.032108   26208    Customer   \n",
       "3             40.728745             -74.032108   29487    Customer   \n",
       "4             40.737604             -74.052478   29592  Subscriber   \n",
       "\n",
       "   birth year  gender  \n",
       "0        1993       1  \n",
       "1        1984       1  \n",
       "2        1969       0  \n",
       "3        1969       0  \n",
       "4        1994       1  "
      ]
     },
     "execution_count": 4,
     "metadata": {},
     "output_type": "execute_result"
    }
   ],
   "source": [
    "df_2019.head()"
   ]
  },
  {
   "cell_type": "code",
   "execution_count": 5,
   "metadata": {},
   "outputs": [
    {
     "data": {
      "text/plain": [
       "51"
      ]
     },
     "execution_count": 5,
     "metadata": {},
     "output_type": "execute_result"
    }
   ],
   "source": [
    "df_2019[\"start station id\"].nunique()"
   ]
  },
  {
   "cell_type": "code",
   "execution_count": 6,
   "metadata": {},
   "outputs": [
    {
     "data": {
      "text/html": [
       "<div>\n",
       "<style scoped>\n",
       "    .dataframe tbody tr th:only-of-type {\n",
       "        vertical-align: middle;\n",
       "    }\n",
       "\n",
       "    .dataframe tbody tr th {\n",
       "        vertical-align: top;\n",
       "    }\n",
       "\n",
       "    .dataframe thead th {\n",
       "        text-align: right;\n",
       "    }\n",
       "</style>\n",
       "<table border=\"1\" class=\"dataframe\">\n",
       "  <thead>\n",
       "    <tr style=\"text-align: right;\">\n",
       "      <th></th>\n",
       "      <th>tripduration</th>\n",
       "      <th>starttime</th>\n",
       "      <th>stoptime</th>\n",
       "      <th>start station id</th>\n",
       "      <th>start station name</th>\n",
       "      <th>start station latitude</th>\n",
       "      <th>start station longitude</th>\n",
       "      <th>end station id</th>\n",
       "      <th>end station name</th>\n",
       "      <th>end station latitude</th>\n",
       "      <th>end station longitude</th>\n",
       "      <th>bikeid</th>\n",
       "      <th>usertype</th>\n",
       "      <th>birth year</th>\n",
       "      <th>gender</th>\n",
       "    </tr>\n",
       "  </thead>\n",
       "  <tbody>\n",
       "    <tr>\n",
       "      <th>0</th>\n",
       "      <td>122</td>\n",
       "      <td>2020-06-01 00:02:21.7500</td>\n",
       "      <td>2020-06-01 00:04:24.3250</td>\n",
       "      <td>3792</td>\n",
       "      <td>Columbus Dr at Exchange Pl</td>\n",
       "      <td>40.716870</td>\n",
       "      <td>-74.032810</td>\n",
       "      <td>3639</td>\n",
       "      <td>Harborside</td>\n",
       "      <td>40.719252</td>\n",
       "      <td>-74.034234</td>\n",
       "      <td>42489</td>\n",
       "      <td>Subscriber</td>\n",
       "      <td>1987</td>\n",
       "      <td>1</td>\n",
       "    </tr>\n",
       "    <tr>\n",
       "      <th>1</th>\n",
       "      <td>1282</td>\n",
       "      <td>2020-06-01 00:12:27.1090</td>\n",
       "      <td>2020-06-01 00:33:50.0540</td>\n",
       "      <td>3198</td>\n",
       "      <td>Heights Elevator</td>\n",
       "      <td>40.748716</td>\n",
       "      <td>-74.040443</td>\n",
       "      <td>3276</td>\n",
       "      <td>Marin Light Rail</td>\n",
       "      <td>40.714584</td>\n",
       "      <td>-74.042817</td>\n",
       "      <td>42183</td>\n",
       "      <td>Subscriber</td>\n",
       "      <td>1988</td>\n",
       "      <td>1</td>\n",
       "    </tr>\n",
       "    <tr>\n",
       "      <th>2</th>\n",
       "      <td>186</td>\n",
       "      <td>2020-06-01 01:19:59.2090</td>\n",
       "      <td>2020-06-01 01:23:05.8930</td>\n",
       "      <td>3275</td>\n",
       "      <td>Columbus Drive</td>\n",
       "      <td>40.718355</td>\n",
       "      <td>-74.038914</td>\n",
       "      <td>3681</td>\n",
       "      <td>Grand St</td>\n",
       "      <td>40.715178</td>\n",
       "      <td>-74.037683</td>\n",
       "      <td>42140</td>\n",
       "      <td>Subscriber</td>\n",
       "      <td>1987</td>\n",
       "      <td>1</td>\n",
       "    </tr>\n",
       "    <tr>\n",
       "      <th>3</th>\n",
       "      <td>131</td>\n",
       "      <td>2020-06-01 01:26:42.2050</td>\n",
       "      <td>2020-06-01 01:28:53.8040</td>\n",
       "      <td>3267</td>\n",
       "      <td>Morris Canal</td>\n",
       "      <td>40.712419</td>\n",
       "      <td>-74.038526</td>\n",
       "      <td>3681</td>\n",
       "      <td>Grand St</td>\n",
       "      <td>40.715178</td>\n",
       "      <td>-74.037683</td>\n",
       "      <td>42120</td>\n",
       "      <td>Subscriber</td>\n",
       "      <td>1987</td>\n",
       "      <td>1</td>\n",
       "    </tr>\n",
       "    <tr>\n",
       "      <th>4</th>\n",
       "      <td>266</td>\n",
       "      <td>2020-06-01 01:27:33.7090</td>\n",
       "      <td>2020-06-01 01:32:00.1890</td>\n",
       "      <td>3639</td>\n",
       "      <td>Harborside</td>\n",
       "      <td>40.719252</td>\n",
       "      <td>-74.034234</td>\n",
       "      <td>3186</td>\n",
       "      <td>Grove St PATH</td>\n",
       "      <td>40.719586</td>\n",
       "      <td>-74.043117</td>\n",
       "      <td>42437</td>\n",
       "      <td>Subscriber</td>\n",
       "      <td>1972</td>\n",
       "      <td>2</td>\n",
       "    </tr>\n",
       "  </tbody>\n",
       "</table>\n",
       "</div>"
      ],
      "text/plain": [
       "   tripduration                 starttime                  stoptime  \\\n",
       "0           122  2020-06-01 00:02:21.7500  2020-06-01 00:04:24.3250   \n",
       "1          1282  2020-06-01 00:12:27.1090  2020-06-01 00:33:50.0540   \n",
       "2           186  2020-06-01 01:19:59.2090  2020-06-01 01:23:05.8930   \n",
       "3           131  2020-06-01 01:26:42.2050  2020-06-01 01:28:53.8040   \n",
       "4           266  2020-06-01 01:27:33.7090  2020-06-01 01:32:00.1890   \n",
       "\n",
       "   start station id          start station name  start station latitude  \\\n",
       "0              3792  Columbus Dr at Exchange Pl               40.716870   \n",
       "1              3198            Heights Elevator               40.748716   \n",
       "2              3275              Columbus Drive               40.718355   \n",
       "3              3267                Morris Canal               40.712419   \n",
       "4              3639                  Harborside               40.719252   \n",
       "\n",
       "   start station longitude  end station id  end station name  \\\n",
       "0               -74.032810            3639        Harborside   \n",
       "1               -74.040443            3276  Marin Light Rail   \n",
       "2               -74.038914            3681          Grand St   \n",
       "3               -74.038526            3681          Grand St   \n",
       "4               -74.034234            3186     Grove St PATH   \n",
       "\n",
       "   end station latitude  end station longitude  bikeid    usertype  \\\n",
       "0             40.719252             -74.034234   42489  Subscriber   \n",
       "1             40.714584             -74.042817   42183  Subscriber   \n",
       "2             40.715178             -74.037683   42140  Subscriber   \n",
       "3             40.715178             -74.037683   42120  Subscriber   \n",
       "4             40.719586             -74.043117   42437  Subscriber   \n",
       "\n",
       "   birth year  gender  \n",
       "0        1987       1  \n",
       "1        1988       1  \n",
       "2        1987       1  \n",
       "3        1987       1  \n",
       "4        1972       2  "
      ]
     },
     "execution_count": 6,
     "metadata": {},
     "output_type": "execute_result"
    }
   ],
   "source": [
    "df_2020.head()"
   ]
  },
  {
   "cell_type": "code",
   "execution_count": 7,
   "metadata": {},
   "outputs": [
    {
     "data": {
      "text/plain": [
       "51"
      ]
     },
     "execution_count": 7,
     "metadata": {},
     "output_type": "execute_result"
    }
   ],
   "source": [
    "df_2020[\"start station id\"].nunique()"
   ]
  },
  {
   "cell_type": "code",
   "execution_count": 8,
   "metadata": {},
   "outputs": [
    {
     "data": {
      "text/plain": [
       "39430"
      ]
     },
     "execution_count": 8,
     "metadata": {},
     "output_type": "execute_result"
    }
   ],
   "source": [
    "length_19 = len(df_2019)\n",
    "length_19"
   ]
  },
  {
   "cell_type": "code",
   "execution_count": 9,
   "metadata": {},
   "outputs": [
    {
     "data": {
      "text/plain": [
       "36921"
      ]
     },
     "execution_count": 9,
     "metadata": {},
     "output_type": "execute_result"
    }
   ],
   "source": [
    "length_20 = len(df_2020)\n",
    "length_20"
   ]
  },
  {
   "cell_type": "code",
   "execution_count": 10,
   "metadata": {},
   "outputs": [
    {
     "data": {
      "text/plain": [
       "2509"
      ]
     },
     "execution_count": 10,
     "metadata": {},
     "output_type": "execute_result"
    }
   ],
   "source": [
    "difference = length_19 - length_20\n",
    "difference"
   ]
  },
  {
   "cell_type": "raw",
   "metadata": {},
   "source": []
  },
  {
   "cell_type": "code",
   "execution_count": 11,
   "metadata": {},
   "outputs": [
    {
     "data": {
      "text/plain": [
       "2296.5872267815066"
      ]
     },
     "execution_count": 11,
     "metadata": {},
     "output_type": "execute_result"
    }
   ],
   "source": [
    "meantd_2020 = df_2020['tripduration'].mean()\n",
    "meantd_2020"
   ]
  },
  {
   "cell_type": "code",
   "execution_count": 12,
   "metadata": {},
   "outputs": [
    {
     "name": "stdout",
     "output_type": "stream",
     "text": [
      "0.0 0.0 38.0\n"
     ]
    }
   ],
   "source": [
    "# convert seconds to days, hours, and minutes for meandtd_2020\n",
    "\n",
    "seconds = meantd_2020\n",
    "\n",
    "seconds_in_day = 60 * 60 * 24\n",
    "\n",
    "seconds_in_hour = 60 * 60\n",
    "\n",
    "seconds_in_minute = 60\n",
    "\n",
    "\n",
    "days = seconds // seconds_in_day\n",
    "hours = (seconds - (days * seconds_in_day)) // seconds_in_hour\n",
    "minutes = (seconds - (days * seconds_in_day) - (hours * seconds_in_hour)) // seconds_in_minute\n",
    "print(days, hours, minutes)"
   ]
  },
  {
   "cell_type": "code",
   "execution_count": 13,
   "metadata": {},
   "outputs": [
    {
     "data": {
      "text/plain": [
       "973.6899568856201"
      ]
     },
     "execution_count": 13,
     "metadata": {},
     "output_type": "execute_result"
    }
   ],
   "source": [
    "meantd_2019 = df_2019['tripduration'].mean()\n",
    "meantd_2019"
   ]
  },
  {
   "cell_type": "code",
   "execution_count": 14,
   "metadata": {},
   "outputs": [
    {
     "name": "stdout",
     "output_type": "stream",
     "text": [
      "0.0 0.0 16.0\n"
     ]
    }
   ],
   "source": [
    "# convert seconds to days, hours, and minutes for meandtd_2019\n",
    "\n",
    "seconds = meantd_2019\n",
    "\n",
    "seconds_in_day = 60 * 60 * 24\n",
    "\n",
    "seconds_in_hour = 60 * 60\n",
    "\n",
    "seconds_in_minute = 60\n",
    "\n",
    "\n",
    "days = seconds // seconds_in_day\n",
    "hours = (seconds - (days * seconds_in_day)) // seconds_in_hour\n",
    "minutes = (seconds - (days * seconds_in_day) - (hours * seconds_in_hour)) // seconds_in_minute\n",
    "print(days, hours, minutes)"
   ]
  },
  {
   "cell_type": "code",
   "execution_count": 15,
   "metadata": {},
   "outputs": [
    {
     "data": {
      "text/plain": [
       "1554397"
      ]
     },
     "execution_count": 15,
     "metadata": {},
     "output_type": "execute_result"
    }
   ],
   "source": [
    "#tripduration is in seconds\n",
    "maxtd_2020 = df_2020['tripduration'].max()\n",
    "maxtd_2020"
   ]
  },
  {
   "cell_type": "code",
   "execution_count": 16,
   "metadata": {},
   "outputs": [
    {
     "data": {
      "text/plain": [
       "1195576"
      ]
     },
     "execution_count": 16,
     "metadata": {},
     "output_type": "execute_result"
    }
   ],
   "source": [
    "maxtd_2019 = df_2019['tripduration'].max()\n",
    "maxtd_2019"
   ]
  },
  {
   "cell_type": "code",
   "execution_count": 17,
   "metadata": {},
   "outputs": [
    {
     "name": "stdout",
     "output_type": "stream",
     "text": [
      "17 23 46\n"
     ]
    }
   ],
   "source": [
    "# convert seconds to days, hours, and minutes for maxtd_2020\n",
    "\n",
    "seconds = maxtd_2020\n",
    "\n",
    "seconds_in_day = 60 * 60 * 24\n",
    "\n",
    "seconds_in_hour = 60 * 60\n",
    "\n",
    "seconds_in_minute = 60\n",
    "\n",
    "\n",
    "days = seconds // seconds_in_day\n",
    "hours = (seconds - (days * seconds_in_day)) // seconds_in_hour\n",
    "minutes = (seconds - (days * seconds_in_day) - (hours * seconds_in_hour)) // seconds_in_minute\n",
    "print(days, hours, minutes)"
   ]
  },
  {
   "cell_type": "code",
   "execution_count": 18,
   "metadata": {},
   "outputs": [
    {
     "name": "stdout",
     "output_type": "stream",
     "text": [
      "13 20 6\n"
     ]
    }
   ],
   "source": [
    "# convert seconds to days, hours, and minutes for maxtd_2019\n",
    "\n",
    "seconds = maxtd_2019\n",
    "\n",
    "seconds_in_day = 60 * 60 * 24\n",
    "\n",
    "seconds_in_hour = 60 * 60\n",
    "\n",
    "seconds_in_minute = 60\n",
    "\n",
    "\n",
    "days = seconds // seconds_in_day\n",
    "hours = (seconds - (days * seconds_in_day)) // seconds_in_hour\n",
    "minutes = (seconds - (days * seconds_in_day) - (hours * seconds_in_hour)) // seconds_in_minute\n",
    "print(days, hours, minutes)"
   ]
  },
  {
   "cell_type": "code",
   "execution_count": null,
   "metadata": {},
   "outputs": [],
   "source": []
  },
  {
   "cell_type": "code",
   "execution_count": 19,
   "metadata": {},
   "outputs": [
    {
     "data": {
      "text/plain": [
       "51"
      ]
     },
     "execution_count": 19,
     "metadata": {},
     "output_type": "execute_result"
    }
   ],
   "source": [
    "df_2020[\"start station id\"].nunique()"
   ]
  },
  {
   "cell_type": "code",
   "execution_count": 20,
   "metadata": {},
   "outputs": [],
   "source": [
    "# plot distribution of trip durations in 2020\n"
   ]
  },
  {
   "cell_type": "code",
   "execution_count": 21,
   "metadata": {},
   "outputs": [],
   "source": [
    "#Break 2 annual DFs out into subscriber and customer DFs\n",
    "df_2019_subs = df_2019.loc[df_2019[\"usertype\"]==\"Subscriber\"]\n",
    "df_2019_cust = df_2019.loc[df_2019[\"usertype\"]==\"Customer\"]\n",
    "df_2020_subs = df_2020.loc[df_2020[\"usertype\"]==\"Subscriber\"]\n",
    "df_2020_cust = df_2020.loc[df_2020[\"usertype\"]==\"Customer\"]"
   ]
  },
  {
   "cell_type": "code",
   "execution_count": 22,
   "metadata": {},
   "outputs": [],
   "source": [
    "#Group 4 DFs into summary sets with aggregation columns\n",
    "group_2019_subs_start = df_2019_subs.groupby([\"start station id\", \"start station name\", \"start station latitude\", \"start station longitude\"]).agg({'tripduration': ['mean', 'sum', 'count']})\n",
    "group_2019_subs_start.columns = group_2019_subs_start.columns.droplevel(0)\n",
    "group_2019_subs_start = group_2019_subs_start.reset_index()\n",
    "group_2019_subs_end = df_2019_subs.groupby([\"end station id\", \"end station name\", \"end station latitude\", \"end station longitude\"]).agg({'tripduration': ['mean', 'sum', 'count']})\n",
    "group_2019_subs_end.columns = group_2019_subs_end.columns.droplevel(0)\n",
    "group_2019_subs_end = group_2019_subs_end.reset_index()\n",
    "group_2019_cust_start = df_2019_cust.groupby([\"start station id\", \"start station name\", \"start station latitude\", \"start station longitude\"]).agg({'tripduration': ['mean', 'sum', 'count']})\n",
    "group_2019_cust_start.columns = group_2019_cust_start.columns.droplevel(0)\n",
    "group_2019_cust_start = group_2019_cust_start.reset_index()\n",
    "group_2019_cust_end = df_2019_cust.groupby([\"end station id\", \"end station name\", \"end station latitude\", \"end station longitude\"]).agg({'tripduration': ['mean', 'sum', 'count']})\n",
    "group_2019_cust_end.columns = group_2019_cust_end.columns.droplevel(0)\n",
    "group_2019_cust_end = group_2019_cust_end.reset_index()\n",
    "group_2020_subs_start = df_2020_subs.groupby([\"start station id\", \"start station name\", \"start station latitude\", \"start station longitude\"]).agg({'tripduration': ['mean', 'sum', 'count']})\n",
    "group_2020_subs_start.columns = group_2020_subs_start.columns.droplevel(0)\n",
    "group_2020_subs_start = group_2020_subs_start.reset_index()\n",
    "group_2020_subs_end = df_2020_subs.groupby([\"end station id\", \"end station name\", \"end station latitude\", \"end station longitude\"]).agg({'tripduration': ['mean', 'sum', 'count']})\n",
    "group_2020_subs_end.columns = group_2020_subs_end.columns.droplevel(0)\n",
    "group_2020_subs_end = group_2020_subs_end.reset_index()\n",
    "group_2020_cust_start = df_2020_cust.groupby([\"start station id\", \"start station name\", \"start station latitude\", \"start station longitude\"]).agg({'tripduration': ['mean', 'sum', 'count']})\n",
    "group_2020_cust_start.columns = group_2020_cust_start.columns.droplevel(0)\n",
    "group_2020_cust_start = group_2020_cust_start.reset_index()\n",
    "group_2020_cust_end = df_2020_cust.groupby([\"end station id\", \"end station name\", \"end station latitude\", \"end station longitude\"]).agg({'tripduration': ['mean', 'sum', 'count']})\n",
    "group_2020_cust_end.columns = group_2020_cust_end.columns.droplevel(0)\n",
    "group_2020_cust_end = group_2020_cust_end.reset_index()"
   ]
  },
  {
   "cell_type": "code",
   "execution_count": 23,
   "metadata": {},
   "outputs": [
    {
     "data": {
      "text/html": [
       "<div>\n",
       "<style scoped>\n",
       "    .dataframe tbody tr th:only-of-type {\n",
       "        vertical-align: middle;\n",
       "    }\n",
       "\n",
       "    .dataframe tbody tr th {\n",
       "        vertical-align: top;\n",
       "    }\n",
       "\n",
       "    .dataframe thead th {\n",
       "        text-align: right;\n",
       "    }\n",
       "</style>\n",
       "<table border=\"1\" class=\"dataframe\">\n",
       "  <thead>\n",
       "    <tr style=\"text-align: right;\">\n",
       "      <th></th>\n",
       "      <th>start station id</th>\n",
       "      <th>start station name</th>\n",
       "      <th>start station latitude</th>\n",
       "      <th>start station longitude</th>\n",
       "      <th>mean</th>\n",
       "      <th>sum</th>\n",
       "      <th>count</th>\n",
       "    </tr>\n",
       "  </thead>\n",
       "  <tbody>\n",
       "    <tr>\n",
       "      <th>0</th>\n",
       "      <td>3184</td>\n",
       "      <td>Paulus Hook</td>\n",
       "      <td>40.714145</td>\n",
       "      <td>-74.033552</td>\n",
       "      <td>4119.645306</td>\n",
       "      <td>2764282</td>\n",
       "      <td>671</td>\n",
       "    </tr>\n",
       "    <tr>\n",
       "      <th>1</th>\n",
       "      <td>3185</td>\n",
       "      <td>City Hall</td>\n",
       "      <td>40.717733</td>\n",
       "      <td>-74.043845</td>\n",
       "      <td>3018.541555</td>\n",
       "      <td>1125916</td>\n",
       "      <td>373</td>\n",
       "    </tr>\n",
       "    <tr>\n",
       "      <th>2</th>\n",
       "      <td>3186</td>\n",
       "      <td>Grove St PATH</td>\n",
       "      <td>40.719586</td>\n",
       "      <td>-74.043117</td>\n",
       "      <td>3339.211078</td>\n",
       "      <td>2230593</td>\n",
       "      <td>668</td>\n",
       "    </tr>\n",
       "    <tr>\n",
       "      <th>3</th>\n",
       "      <td>3187</td>\n",
       "      <td>Warren St</td>\n",
       "      <td>40.721124</td>\n",
       "      <td>-74.038051</td>\n",
       "      <td>2553.918465</td>\n",
       "      <td>1064984</td>\n",
       "      <td>417</td>\n",
       "    </tr>\n",
       "    <tr>\n",
       "      <th>4</th>\n",
       "      <td>3191</td>\n",
       "      <td>Union St</td>\n",
       "      <td>40.718211</td>\n",
       "      <td>-74.083639</td>\n",
       "      <td>3600.986755</td>\n",
       "      <td>543749</td>\n",
       "      <td>151</td>\n",
       "    </tr>\n",
       "  </tbody>\n",
       "</table>\n",
       "</div>"
      ],
      "text/plain": [
       "   start station id start station name  start station latitude  \\\n",
       "0              3184        Paulus Hook               40.714145   \n",
       "1              3185          City Hall               40.717733   \n",
       "2              3186      Grove St PATH               40.719586   \n",
       "3              3187          Warren St               40.721124   \n",
       "4              3191           Union St               40.718211   \n",
       "\n",
       "   start station longitude         mean      sum  count  \n",
       "0               -74.033552  4119.645306  2764282    671  \n",
       "1               -74.043845  3018.541555  1125916    373  \n",
       "2               -74.043117  3339.211078  2230593    668  \n",
       "3               -74.038051  2553.918465  1064984    417  \n",
       "4               -74.083639  3600.986755   543749    151  "
      ]
     },
     "execution_count": 23,
     "metadata": {},
     "output_type": "execute_result"
    }
   ],
   "source": [
    "group_2020_cust_start.head()"
   ]
  },
  {
   "cell_type": "code",
   "execution_count": 24,
   "metadata": {},
   "outputs": [],
   "source": [
    "#Set the columns for year and type for each DF\n",
    "group_2019_subs_start[\"year\"]=2019\n",
    "group_2019_subs_start[\"type\"]=\"subs\"\n",
    "group_2019_cust_start[\"year\"]=2019\n",
    "group_2019_cust_start[\"type\"]=\"cust\"\n",
    "group_2020_subs_start[\"year\"]=2020\n",
    "group_2020_subs_start[\"type\"]=\"subs\"\n",
    "group_2020_cust_start[\"year\"]=2020\n",
    "group_2020_cust_start[\"type\"]=\"cust\"\n",
    "group_2019_subs_end[\"year\"]=2019\n",
    "group_2019_subs_end[\"type\"]=\"subs\"\n",
    "group_2019_cust_end[\"year\"]=2019\n",
    "group_2019_cust_end[\"type\"]=\"cust\"\n",
    "group_2020_subs_end[\"year\"]=2020\n",
    "group_2020_subs_end[\"type\"]=\"subs\"\n",
    "group_2020_cust_end[\"year\"]=2020\n",
    "group_2020_cust_end[\"type\"]=\"cust\"\n"
   ]
  },
  {
   "cell_type": "code",
   "execution_count": 25,
   "metadata": {},
   "outputs": [
    {
     "data": {
      "text/plain": [
       "203"
      ]
     },
     "execution_count": 25,
     "metadata": {},
     "output_type": "execute_result"
    }
   ],
   "source": [
    "#combine into new annual DFs\n",
    "start_df = group_2019_subs_start.append(group_2020_subs_start).append(group_2019_cust_start).append(group_2020_cust_start)\n",
    "len(start_df)"
   ]
  },
  {
   "cell_type": "code",
   "execution_count": 26,
   "metadata": {},
   "outputs": [
    {
     "data": {
      "text/plain": [
       "237"
      ]
     },
     "execution_count": 26,
     "metadata": {},
     "output_type": "execute_result"
    }
   ],
   "source": [
    "#combine into new annual DFs\n",
    "end_df = group_2019_subs_end.append(group_2020_subs_end).append(group_2019_cust_end).append(group_2020_cust_end)\n",
    "len(end_df)"
   ]
  },
  {
   "cell_type": "code",
   "execution_count": 27,
   "metadata": {},
   "outputs": [
    {
     "data": {
      "text/plain": [
       "Index(['start station id', 'start station name', 'start station latitude',\n",
       "       'start station longitude', 'mean', 'sum', 'count', 'year', 'type'],\n",
       "      dtype='object')"
      ]
     },
     "execution_count": 27,
     "metadata": {},
     "output_type": "execute_result"
    }
   ],
   "source": [
    "start_df.columns"
   ]
  },
  {
   "cell_type": "code",
   "execution_count": 28,
   "metadata": {},
   "outputs": [],
   "source": [
    "start_df.columns = start_df.columns.get_level_values(0)\n",
    "end_df.columns = end_df.columns.get_level_values(0)"
   ]
  },
  {
   "cell_type": "code",
   "execution_count": 29,
   "metadata": {},
   "outputs": [
    {
     "data": {
      "text/html": [
       "<div>\n",
       "<style scoped>\n",
       "    .dataframe tbody tr th:only-of-type {\n",
       "        vertical-align: middle;\n",
       "    }\n",
       "\n",
       "    .dataframe tbody tr th {\n",
       "        vertical-align: top;\n",
       "    }\n",
       "\n",
       "    .dataframe thead th {\n",
       "        text-align: right;\n",
       "    }\n",
       "</style>\n",
       "<table border=\"1\" class=\"dataframe\">\n",
       "  <thead>\n",
       "    <tr style=\"text-align: right;\">\n",
       "      <th></th>\n",
       "      <th>start station id</th>\n",
       "      <th>start station name</th>\n",
       "      <th>start station latitude</th>\n",
       "      <th>start station longitude</th>\n",
       "      <th>mean</th>\n",
       "      <th>sum</th>\n",
       "      <th>count</th>\n",
       "      <th>year</th>\n",
       "      <th>type</th>\n",
       "    </tr>\n",
       "  </thead>\n",
       "  <tbody>\n",
       "    <tr>\n",
       "      <th>0</th>\n",
       "      <td>3184</td>\n",
       "      <td>Paulus Hook</td>\n",
       "      <td>40.714145</td>\n",
       "      <td>-74.033552</td>\n",
       "      <td>589.577163</td>\n",
       "      <td>660916</td>\n",
       "      <td>1121</td>\n",
       "      <td>2019</td>\n",
       "      <td>subs</td>\n",
       "    </tr>\n",
       "    <tr>\n",
       "      <th>1</th>\n",
       "      <td>3185</td>\n",
       "      <td>City Hall</td>\n",
       "      <td>40.717733</td>\n",
       "      <td>-74.043845</td>\n",
       "      <td>587.537870</td>\n",
       "      <td>535247</td>\n",
       "      <td>911</td>\n",
       "      <td>2019</td>\n",
       "      <td>subs</td>\n",
       "    </tr>\n",
       "    <tr>\n",
       "      <th>2</th>\n",
       "      <td>3186</td>\n",
       "      <td>Grove St PATH</td>\n",
       "      <td>40.719586</td>\n",
       "      <td>-74.043117</td>\n",
       "      <td>436.424445</td>\n",
       "      <td>1828182</td>\n",
       "      <td>4189</td>\n",
       "      <td>2019</td>\n",
       "      <td>subs</td>\n",
       "    </tr>\n",
       "    <tr>\n",
       "      <th>3</th>\n",
       "      <td>3187</td>\n",
       "      <td>Warren St</td>\n",
       "      <td>40.721124</td>\n",
       "      <td>-74.038051</td>\n",
       "      <td>436.910653</td>\n",
       "      <td>381423</td>\n",
       "      <td>873</td>\n",
       "      <td>2019</td>\n",
       "      <td>subs</td>\n",
       "    </tr>\n",
       "    <tr>\n",
       "      <th>4</th>\n",
       "      <td>3191</td>\n",
       "      <td>Union St</td>\n",
       "      <td>40.718211</td>\n",
       "      <td>-74.083639</td>\n",
       "      <td>1038.363636</td>\n",
       "      <td>79954</td>\n",
       "      <td>77</td>\n",
       "      <td>2019</td>\n",
       "      <td>subs</td>\n",
       "    </tr>\n",
       "  </tbody>\n",
       "</table>\n",
       "</div>"
      ],
      "text/plain": [
       "   start station id start station name  start station latitude  \\\n",
       "0              3184        Paulus Hook               40.714145   \n",
       "1              3185          City Hall               40.717733   \n",
       "2              3186      Grove St PATH               40.719586   \n",
       "3              3187          Warren St               40.721124   \n",
       "4              3191           Union St               40.718211   \n",
       "\n",
       "   start station longitude         mean      sum  count  year  type  \n",
       "0               -74.033552   589.577163   660916   1121  2019  subs  \n",
       "1               -74.043845   587.537870   535247    911  2019  subs  \n",
       "2               -74.043117   436.424445  1828182   4189  2019  subs  \n",
       "3               -74.038051   436.910653   381423    873  2019  subs  \n",
       "4               -74.083639  1038.363636    79954     77  2019  subs  "
      ]
     },
     "execution_count": 29,
     "metadata": {},
     "output_type": "execute_result"
    }
   ],
   "source": [
    "start_df.head()"
   ]
  },
  {
   "cell_type": "code",
   "execution_count": 31,
   "metadata": {},
   "outputs": [],
   "source": [
    "#Rename three aggregation columns to meaningful names\n",
    "start_df = start_df.rename(columns = {\"mean\":\"start duration mean\",\"sum\":\"start duration sum\",\"count\":\"start duration count\", \"year\":\"start year\", \"type\":\"start type\"})\n",
    "end_df = end_df.rename(columns = {\"mean\":\"end duration mean\",\"sum\":\"end duration sum\",\"count\":\"end duration count\", \"year\":\"end year\", \"type\":\"end type\"})"
   ]
  },
  {
   "cell_type": "code",
   "execution_count": 32,
   "metadata": {},
   "outputs": [
    {
     "data": {
      "text/html": [
       "<div>\n",
       "<style scoped>\n",
       "    .dataframe tbody tr th:only-of-type {\n",
       "        vertical-align: middle;\n",
       "    }\n",
       "\n",
       "    .dataframe tbody tr th {\n",
       "        vertical-align: top;\n",
       "    }\n",
       "\n",
       "    .dataframe thead th {\n",
       "        text-align: right;\n",
       "    }\n",
       "</style>\n",
       "<table border=\"1\" class=\"dataframe\">\n",
       "  <thead>\n",
       "    <tr style=\"text-align: right;\">\n",
       "      <th></th>\n",
       "      <th>start station id</th>\n",
       "      <th>start station name</th>\n",
       "      <th>start station latitude</th>\n",
       "      <th>start station longitude</th>\n",
       "      <th>start duration mean</th>\n",
       "      <th>start duration sum</th>\n",
       "      <th>start duration count</th>\n",
       "      <th>start year</th>\n",
       "      <th>start type</th>\n",
       "    </tr>\n",
       "  </thead>\n",
       "  <tbody>\n",
       "    <tr>\n",
       "      <th>0</th>\n",
       "      <td>3184</td>\n",
       "      <td>Paulus Hook</td>\n",
       "      <td>40.714145</td>\n",
       "      <td>-74.033552</td>\n",
       "      <td>589.577163</td>\n",
       "      <td>660916</td>\n",
       "      <td>1121</td>\n",
       "      <td>2019</td>\n",
       "      <td>subs</td>\n",
       "    </tr>\n",
       "    <tr>\n",
       "      <th>1</th>\n",
       "      <td>3185</td>\n",
       "      <td>City Hall</td>\n",
       "      <td>40.717733</td>\n",
       "      <td>-74.043845</td>\n",
       "      <td>587.537870</td>\n",
       "      <td>535247</td>\n",
       "      <td>911</td>\n",
       "      <td>2019</td>\n",
       "      <td>subs</td>\n",
       "    </tr>\n",
       "    <tr>\n",
       "      <th>2</th>\n",
       "      <td>3186</td>\n",
       "      <td>Grove St PATH</td>\n",
       "      <td>40.719586</td>\n",
       "      <td>-74.043117</td>\n",
       "      <td>436.424445</td>\n",
       "      <td>1828182</td>\n",
       "      <td>4189</td>\n",
       "      <td>2019</td>\n",
       "      <td>subs</td>\n",
       "    </tr>\n",
       "    <tr>\n",
       "      <th>3</th>\n",
       "      <td>3187</td>\n",
       "      <td>Warren St</td>\n",
       "      <td>40.721124</td>\n",
       "      <td>-74.038051</td>\n",
       "      <td>436.910653</td>\n",
       "      <td>381423</td>\n",
       "      <td>873</td>\n",
       "      <td>2019</td>\n",
       "      <td>subs</td>\n",
       "    </tr>\n",
       "    <tr>\n",
       "      <th>4</th>\n",
       "      <td>3191</td>\n",
       "      <td>Union St</td>\n",
       "      <td>40.718211</td>\n",
       "      <td>-74.083639</td>\n",
       "      <td>1038.363636</td>\n",
       "      <td>79954</td>\n",
       "      <td>77</td>\n",
       "      <td>2019</td>\n",
       "      <td>subs</td>\n",
       "    </tr>\n",
       "  </tbody>\n",
       "</table>\n",
       "</div>"
      ],
      "text/plain": [
       "   start station id start station name  start station latitude  \\\n",
       "0              3184        Paulus Hook               40.714145   \n",
       "1              3185          City Hall               40.717733   \n",
       "2              3186      Grove St PATH               40.719586   \n",
       "3              3187          Warren St               40.721124   \n",
       "4              3191           Union St               40.718211   \n",
       "\n",
       "   start station longitude  start duration mean  start duration sum  \\\n",
       "0               -74.033552           589.577163              660916   \n",
       "1               -74.043845           587.537870              535247   \n",
       "2               -74.043117           436.424445             1828182   \n",
       "3               -74.038051           436.910653              381423   \n",
       "4               -74.083639          1038.363636               79954   \n",
       "\n",
       "   start duration count  start year start type  \n",
       "0                  1121        2019       subs  \n",
       "1                   911        2019       subs  \n",
       "2                  4189        2019       subs  \n",
       "3                   873        2019       subs  \n",
       "4                    77        2019       subs  "
      ]
     },
     "execution_count": 32,
     "metadata": {},
     "output_type": "execute_result"
    }
   ],
   "source": [
    "start_df.head()"
   ]
  },
  {
   "cell_type": "code",
   "execution_count": 33,
   "metadata": {},
   "outputs": [
    {
     "data": {
      "text/html": [
       "<div>\n",
       "<style scoped>\n",
       "    .dataframe tbody tr th:only-of-type {\n",
       "        vertical-align: middle;\n",
       "    }\n",
       "\n",
       "    .dataframe tbody tr th {\n",
       "        vertical-align: top;\n",
       "    }\n",
       "\n",
       "    .dataframe thead th {\n",
       "        text-align: right;\n",
       "    }\n",
       "</style>\n",
       "<table border=\"1\" class=\"dataframe\">\n",
       "  <thead>\n",
       "    <tr style=\"text-align: right;\">\n",
       "      <th></th>\n",
       "      <th>end station id</th>\n",
       "      <th>end station name</th>\n",
       "      <th>end station latitude</th>\n",
       "      <th>end station longitude</th>\n",
       "      <th>end duration mean</th>\n",
       "      <th>end duration sum</th>\n",
       "      <th>end duration count</th>\n",
       "      <th>end year</th>\n",
       "      <th>end type</th>\n",
       "    </tr>\n",
       "  </thead>\n",
       "  <tbody>\n",
       "    <tr>\n",
       "      <th>0</th>\n",
       "      <td>195</td>\n",
       "      <td>Liberty St &amp; Broadway</td>\n",
       "      <td>40.709056</td>\n",
       "      <td>-74.010434</td>\n",
       "      <td>2111.333333</td>\n",
       "      <td>6334</td>\n",
       "      <td>3</td>\n",
       "      <td>2019</td>\n",
       "      <td>subs</td>\n",
       "    </tr>\n",
       "    <tr>\n",
       "      <th>1</th>\n",
       "      <td>315</td>\n",
       "      <td>South St &amp; Gouverneur Ln</td>\n",
       "      <td>40.703554</td>\n",
       "      <td>-74.006702</td>\n",
       "      <td>3539.000000</td>\n",
       "      <td>3539</td>\n",
       "      <td>1</td>\n",
       "      <td>2019</td>\n",
       "      <td>subs</td>\n",
       "    </tr>\n",
       "    <tr>\n",
       "      <th>2</th>\n",
       "      <td>327</td>\n",
       "      <td>Vesey Pl &amp; River Terrace</td>\n",
       "      <td>40.715338</td>\n",
       "      <td>-74.016584</td>\n",
       "      <td>3925.500000</td>\n",
       "      <td>15702</td>\n",
       "      <td>4</td>\n",
       "      <td>2019</td>\n",
       "      <td>subs</td>\n",
       "    </tr>\n",
       "    <tr>\n",
       "      <th>3</th>\n",
       "      <td>337</td>\n",
       "      <td>Old Slip &amp; Front St</td>\n",
       "      <td>40.703799</td>\n",
       "      <td>-74.008387</td>\n",
       "      <td>852.500000</td>\n",
       "      <td>3410</td>\n",
       "      <td>4</td>\n",
       "      <td>2019</td>\n",
       "      <td>subs</td>\n",
       "    </tr>\n",
       "    <tr>\n",
       "      <th>4</th>\n",
       "      <td>383</td>\n",
       "      <td>Greenwich Ave &amp; Charles St</td>\n",
       "      <td>40.735238</td>\n",
       "      <td>-74.000271</td>\n",
       "      <td>17089.000000</td>\n",
       "      <td>34178</td>\n",
       "      <td>2</td>\n",
       "      <td>2019</td>\n",
       "      <td>subs</td>\n",
       "    </tr>\n",
       "  </tbody>\n",
       "</table>\n",
       "</div>"
      ],
      "text/plain": [
       "   end station id            end station name  end station latitude  \\\n",
       "0             195       Liberty St & Broadway             40.709056   \n",
       "1             315    South St & Gouverneur Ln             40.703554   \n",
       "2             327    Vesey Pl & River Terrace             40.715338   \n",
       "3             337         Old Slip & Front St             40.703799   \n",
       "4             383  Greenwich Ave & Charles St             40.735238   \n",
       "\n",
       "   end station longitude  end duration mean  end duration sum  \\\n",
       "0             -74.010434        2111.333333              6334   \n",
       "1             -74.006702        3539.000000              3539   \n",
       "2             -74.016584        3925.500000             15702   \n",
       "3             -74.008387         852.500000              3410   \n",
       "4             -74.000271       17089.000000             34178   \n",
       "\n",
       "   end duration count  end year end type  \n",
       "0                   3      2019     subs  \n",
       "1                   1      2019     subs  \n",
       "2                   4      2019     subs  \n",
       "3                   4      2019     subs  \n",
       "4                   2      2019     subs  "
      ]
     },
     "execution_count": 33,
     "metadata": {},
     "output_type": "execute_result"
    }
   ],
   "source": [
    "end_df.head()"
   ]
  },
  {
   "cell_type": "code",
   "execution_count": 34,
   "metadata": {},
   "outputs": [],
   "source": [
    "#Write two new annual DFs to .csv\n",
    "start_df.to_csv(\"source/start.csv\",index=False)\n",
    "end_df.to_csv(\"source/end.csv\",index=False)"
   ]
  },
  {
   "cell_type": "code",
   "execution_count": null,
   "metadata": {},
   "outputs": [],
   "source": []
  }
 ],
 "metadata": {
  "kernelspec": {
   "display_name": "Python 3",
   "language": "python",
   "name": "python3"
  },
  "language_info": {
   "codemirror_mode": {
    "name": "ipython",
    "version": 3
   },
   "file_extension": ".py",
   "mimetype": "text/x-python",
   "name": "python",
   "nbconvert_exporter": "python",
   "pygments_lexer": "ipython3",
   "version": "3.7.6"
  }
 },
 "nbformat": 4,
 "nbformat_minor": 4
}
